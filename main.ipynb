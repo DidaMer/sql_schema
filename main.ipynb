{
 "cells": [
  {
   "cell_type": "markdown",
   "metadata": {},
   "source": [
    "## IMPORT\n"
   ]
  },
  {
   "cell_type": "code",
   "execution_count": 6,
   "metadata": {},
   "outputs": [],
   "source": [
    "import sqlite3\n",
    "import pandas as pd\n",
    "import numpy as np\n",
    "import matplotlib.pyplot as plt\n",
    "from zipfile import ZipFile "
   ]
  },
  {
   "cell_type": "markdown",
   "metadata": {},
   "source": [
    "## FUNCTIONS"
   ]
  },
  {
   "cell_type": "code",
   "execution_count": null,
   "metadata": {},
   "outputs": [],
   "source": [
    "\n",
    "def read_sql(db_name, execution):  #read SQL without PANDAS\n",
    "    con = sqlite3.connect(db_name)\n",
    "    cur = con.cursor()\n",
    "    query = execution\n",
    "    cur.execute(query)\n",
    "    \n",
    "    for row in cur.execute(execution):\n",
    "        print(row)\n",
    "    con.close()\n",
    "\n",
    "def read_sql_pandas(db_name, execution): #read SQL with PANDAS\n",
    "    con = sqlite3.connect(db_name)\n",
    "    df = pd.read_sql_query(execution, con, index_col=None)\n",
    "    con.close()\n",
    "    return df\n"
   ]
  },
  {
   "cell_type": "markdown",
   "metadata": {},
   "source": [
    "## MANIPULATION WITH SQL"
   ]
  },
  {
   "cell_type": "code",
   "execution_count": null,
   "metadata": {},
   "outputs": [],
   "source": [
    "#SELECT STATEMENTS FOR SQL SCHEMA\n",
    "\n",
    "# db_name = 'billboard-200.db'\n",
    "\n",
    "# execution = '''\n",
    "# SELECT * \n",
    "# FROM albums \n",
    "\n",
    "# GROUP BY date \n",
    "\n",
    "# '''"
   ]
  },
  {
   "cell_type": "markdown",
   "metadata": {},
   "source": [
    "## READ DATA FROM ZIP AND CLEANING"
   ]
  },
  {
   "cell_type": "code",
   "execution_count": 12,
   "metadata": {},
   "outputs": [],
   "source": [
    "# file_path = 'C:/Users/eduard.vlasov/Documents/GitHub/BDD/sql_schema/DATA/SEM-GTFS.zip'\n",
    "# with ZipFile(file_path, 'r') as zip_ref:\n",
    "#     zip_ref.extractall('C:/Users/eduard.vlasov/Documents/GitHub/BDD/sql_schema/DATA/unzipped')"
   ]
  },
  {
   "cell_type": "code",
   "execution_count": 28,
   "metadata": {},
   "outputs": [],
   "source": [
    "file_path_unzipped = 'C:/Users/eduard.vlasov/Documents/GitHub/BDD/sql_schema/DATA/unzipped/'\n",
    "data_agency = pd.read_csv(file_path_unzipped+\"agency.txt\", sep=\",\") \n",
    "data_route  = pd.read_csv(file_path_unzipped+\"routes.txt\", sep=\",\") "
   ]
  },
  {
   "cell_type": "markdown",
   "metadata": {},
   "source": [
    "## EXPORT DF to SQL"
   ]
  },
  {
   "cell_type": "code",
   "execution_count": 27,
   "metadata": {},
   "outputs": [],
   "source": [
    "conn = sqlite3.connect('gtfs_tag.db')\n",
    "c = conn.cursor()"
   ]
  },
  {
   "cell_type": "code",
   "execution_count": 32,
   "metadata": {},
   "outputs": [
    {
     "data": {
      "text/plain": [
       "56"
      ]
     },
     "execution_count": 32,
     "metadata": {},
     "output_type": "execute_result"
    }
   ],
   "source": [
    "data_agency.to_sql('agency', conn, if_exists='replace', index = False)\n",
    "data_route.to_sql('route', conn, if_exists='replace', index = False)"
   ]
  }
 ],
 "metadata": {
  "kernelspec": {
   "display_name": "arbres",
   "language": "python",
   "name": "python3"
  },
  "language_info": {
   "codemirror_mode": {
    "name": "ipython",
    "version": 3
   },
   "file_extension": ".py",
   "mimetype": "text/x-python",
   "name": "python",
   "nbconvert_exporter": "python",
   "pygments_lexer": "ipython3",
   "version": "3.11.5"
  }
 },
 "nbformat": 4,
 "nbformat_minor": 2
}
