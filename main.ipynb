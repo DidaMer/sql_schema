{
 "cells": [
  {
   "cell_type": "markdown",
   "metadata": {},
   "source": [
    "## IMPORT\n"
   ]
  },
  {
   "cell_type": "code",
   "execution_count": 6,
   "metadata": {},
   "outputs": [],
   "source": [
    "import sqlite3\n",
    "import pandas as pd\n",
    "import numpy as np\n",
    "import matplotlib.pyplot as plt\n",
    "from zipfile import ZipFile "
   ]
  },
  {
   "cell_type": "markdown",
   "metadata": {},
   "source": [
    "## FUNCTIONS"
   ]
  },
  {
   "cell_type": "code",
   "execution_count": null,
   "metadata": {},
   "outputs": [],
   "source": [
    "\n",
    "def read_sql(db_name, execution):  #read SQL without PANDAS\n",
    "    con = sqlite3.connect(db_name)\n",
    "    cur = con.cursor()\n",
    "    query = execution\n",
    "    cur.execute(query)\n",
    "    \n",
    "    for row in cur.execute(execution):\n",
    "        print(row)\n",
    "    con.close()\n",
    "\n",
    "def read_sql_pandas(db_name, execution): #read SQL with PANDAS\n",
    "    con = sqlite3.connect(db_name)\n",
    "    df = pd.read_sql_query(execution, con, index_col=None)\n",
    "    con.close()\n",
    "    return df\n"
   ]
  },
  {
   "cell_type": "markdown",
   "metadata": {},
   "source": [
    "## MANIPULATION WITH SQL"
   ]
  },
  {
   "cell_type": "code",
   "execution_count": null,
   "metadata": {},
   "outputs": [],
   "source": [
    "#SELECT STATEMENTS FOR SQL SCHEMA\n",
    "\n",
    "# db_name = 'billboard-200.db'\n",
    "\n",
    "# execution = '''\n",
    "# SELECT * \n",
    "# FROM albums \n",
    "\n",
    "# GROUP BY date \n",
    "\n",
    "# '''"
   ]
  },
  {
   "cell_type": "markdown",
   "metadata": {},
   "source": [
    "## READ DATA FROM ZIP AND CLEANING"
   ]
  },
  {
   "cell_type": "code",
   "execution_count": 12,
   "metadata": {},
   "outputs": [],
   "source": [
    "# file_path = 'C:/Users/eduard.vlasov/Documents/GitHub/BDD/sql_schema/DATA/SEM-GTFS.zip'\n",
    "# with ZipFile(file_path, 'r') as zip_ref:\n",
    "#     zip_ref.extractall('C:/Users/eduard.vlasov/Documents/GitHub/BDD/sql_schema/DATA/unzipped')"
   ]
  },
  {
   "cell_type": "code",
   "execution_count": 24,
   "metadata": {},
   "outputs": [],
   "source": [
    "file_path_unzipped = 'C:/Users/eduard.vlasov/Documents/GitHub/BDD/sql_schema/DATA/unzipped/'\n",
    "data_agency = pd.read_csv(file_path_unzipped+\"agency.txt\", sep=\",\") \n",
    "data_route  = pd.read_csv(file_path_unzipped+\"routes.txt\", sep=\",\") "
   ]
  },
  {
   "cell_type": "code",
   "execution_count": 26,
   "metadata": {},
   "outputs": [
    {
     "data": {
      "text/html": [
       "<div>\n",
       "<style scoped>\n",
       "    .dataframe tbody tr th:only-of-type {\n",
       "        vertical-align: middle;\n",
       "    }\n",
       "\n",
       "    .dataframe tbody tr th {\n",
       "        vertical-align: top;\n",
       "    }\n",
       "\n",
       "    .dataframe thead th {\n",
       "        text-align: right;\n",
       "    }\n",
       "</style>\n",
       "<table border=\"1\" class=\"dataframe\">\n",
       "  <thead>\n",
       "    <tr style=\"text-align: right;\">\n",
       "      <th></th>\n",
       "      <th>agency_id</th>\n",
       "      <th>route_id</th>\n",
       "      <th>route_short_name</th>\n",
       "      <th>route_long_name</th>\n",
       "      <th>route_type</th>\n",
       "      <th>route_color</th>\n",
       "      <th>route_text_color</th>\n",
       "    </tr>\n",
       "  </thead>\n",
       "  <tbody>\n",
       "    <tr>\n",
       "      <th>0</th>\n",
       "      <td>SEM</td>\n",
       "      <td>1</td>\n",
       "      <td>C1</td>\n",
       "      <td>GRENOBLE Cité Jean Macé / MEYLAN Maupertuis / ...</td>\n",
       "      <td>3</td>\n",
       "      <td>F5D24D</td>\n",
       "      <td>000000</td>\n",
       "    </tr>\n",
       "    <tr>\n",
       "      <th>1</th>\n",
       "      <td>SEM</td>\n",
       "      <td>2</td>\n",
       "      <td>C2</td>\n",
       "      <td>GRENOBLE Louise Michel / CLAIX Pont Rouge</td>\n",
       "      <td>3</td>\n",
       "      <td>F5D24D</td>\n",
       "      <td>000000</td>\n",
       "    </tr>\n",
       "    <tr>\n",
       "      <th>2</th>\n",
       "      <td>SEM</td>\n",
       "      <td>3</td>\n",
       "      <td>C3</td>\n",
       "      <td>GRENOBLE Victor Hugo / ÉCHIROLLES Centre du Gr...</td>\n",
       "      <td>3</td>\n",
       "      <td>F5D24D</td>\n",
       "      <td>000000</td>\n",
       "    </tr>\n",
       "    <tr>\n",
       "      <th>3</th>\n",
       "      <td>SEM</td>\n",
       "      <td>4</td>\n",
       "      <td>C4</td>\n",
       "      <td>GRENOBLE Victor Hugo / EYBENS Le Verderet</td>\n",
       "      <td>3</td>\n",
       "      <td>F5D24D</td>\n",
       "      <td>000000</td>\n",
       "    </tr>\n",
       "    <tr>\n",
       "      <th>4</th>\n",
       "      <td>SEM</td>\n",
       "      <td>5</td>\n",
       "      <td>C5</td>\n",
       "      <td>GRENOBLE Palais de Justice - Gare / GIÈRES Uni...</td>\n",
       "      <td>3</td>\n",
       "      <td>F5D24D</td>\n",
       "      <td>000000</td>\n",
       "    </tr>\n",
       "  </tbody>\n",
       "</table>\n",
       "</div>"
      ],
      "text/plain": [
       "  agency_id route_id route_short_name  \\\n",
       "0       SEM        1               C1   \n",
       "1       SEM        2               C2   \n",
       "2       SEM        3               C3   \n",
       "3       SEM        4               C4   \n",
       "4       SEM        5               C5   \n",
       "\n",
       "                                     route_long_name  route_type route_color  \\\n",
       "0  GRENOBLE Cité Jean Macé / MEYLAN Maupertuis / ...           3      F5D24D   \n",
       "1          GRENOBLE Louise Michel / CLAIX Pont Rouge           3      F5D24D   \n",
       "2  GRENOBLE Victor Hugo / ÉCHIROLLES Centre du Gr...           3      F5D24D   \n",
       "3          GRENOBLE Victor Hugo / EYBENS Le Verderet           3      F5D24D   \n",
       "4  GRENOBLE Palais de Justice - Gare / GIÈRES Uni...           3      F5D24D   \n",
       "\n",
       "  route_text_color  \n",
       "0           000000  \n",
       "1           000000  \n",
       "2           000000  \n",
       "3           000000  \n",
       "4           000000  "
      ]
     },
     "execution_count": 26,
     "metadata": {},
     "output_type": "execute_result"
    }
   ],
   "source": [
    "data_route.head()"
   ]
  },
  {
   "cell_type": "code",
   "execution_count": null,
   "metadata": {},
   "outputs": [],
   "source": []
  }
 ],
 "metadata": {
  "kernelspec": {
   "display_name": "arbres",
   "language": "python",
   "name": "python3"
  },
  "language_info": {
   "codemirror_mode": {
    "name": "ipython",
    "version": 3
   },
   "file_extension": ".py",
   "mimetype": "text/x-python",
   "name": "python",
   "nbconvert_exporter": "python",
   "pygments_lexer": "ipython3",
   "version": "3.11.5"
  }
 },
 "nbformat": 4,
 "nbformat_minor": 2
}
